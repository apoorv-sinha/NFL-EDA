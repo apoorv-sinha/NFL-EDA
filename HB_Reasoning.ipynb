{
 "cells": [
  {
   "cell_type": "code",
   "execution_count": 1,
   "metadata": {},
   "outputs": [],
   "source": [
    "from mpl_toolkits.mplot3d import axes3d\n",
    "import matplotlib.pyplot as plt\n",
    "\n",
    "%matplotlib inline\n"
   ]
  },
  {
   "cell_type": "code",
   "execution_count": 2,
   "metadata": {},
   "outputs": [],
   "source": [
    "import numpy as np\n",
    "import pandas as pd\n",
    "import matplotlib.pyplot as plt\n",
    "import seaborn as sns\n",
    "from scipy import stats"
   ]
  },
  {
   "cell_type": "code",
   "execution_count": 3,
   "metadata": {},
   "outputs": [],
   "source": [
    "RB = pd.read_csv('HB.csv', engine='python')"
   ]
  },
  {
   "cell_type": "code",
   "execution_count": 4,
   "metadata": {},
   "outputs": [
    {
     "data": {
      "text/html": [
       "<div>\n",
       "<style scoped>\n",
       "    .dataframe tbody tr th:only-of-type {\n",
       "        vertical-align: middle;\n",
       "    }\n",
       "\n",
       "    .dataframe tbody tr th {\n",
       "        vertical-align: top;\n",
       "    }\n",
       "\n",
       "    .dataframe thead th {\n",
       "        text-align: right;\n",
       "    }\n",
       "</style>\n",
       "<table border=\"1\" class=\"dataframe\">\n",
       "  <thead>\n",
       "    <tr style=\"text-align: right;\">\n",
       "      <th></th>\n",
       "      <th>RB_name</th>\n",
       "      <th>Receptions</th>\n",
       "      <th>Carries</th>\n",
       "      <th>Rush_TD</th>\n",
       "      <th>Rec_TD</th>\n",
       "      <th>Total_TDs</th>\n",
       "      <th>Team</th>\n",
       "    </tr>\n",
       "  </thead>\n",
       "  <tbody>\n",
       "    <tr>\n",
       "      <th>0</th>\n",
       "      <td>Derrick Henry</td>\n",
       "      <td>18</td>\n",
       "      <td>310</td>\n",
       "      <td>16</td>\n",
       "      <td>2</td>\n",
       "      <td>18</td>\n",
       "      <td>Titans</td>\n",
       "    </tr>\n",
       "    <tr>\n",
       "      <th>1</th>\n",
       "      <td>Austin Ekler</td>\n",
       "      <td>88</td>\n",
       "      <td>132</td>\n",
       "      <td>8</td>\n",
       "      <td>3</td>\n",
       "      <td>11</td>\n",
       "      <td>Chargers</td>\n",
       "    </tr>\n",
       "    <tr>\n",
       "      <th>2</th>\n",
       "      <td>Nick Chubb</td>\n",
       "      <td>36</td>\n",
       "      <td>295</td>\n",
       "      <td>8</td>\n",
       "      <td>0</td>\n",
       "      <td>8</td>\n",
       "      <td>Browns</td>\n",
       "    </tr>\n",
       "    <tr>\n",
       "      <th>3</th>\n",
       "      <td>Christian McCaffrey</td>\n",
       "      <td>116</td>\n",
       "      <td>287</td>\n",
       "      <td>15</td>\n",
       "      <td>4</td>\n",
       "      <td>19</td>\n",
       "      <td>Panthers</td>\n",
       "    </tr>\n",
       "    <tr>\n",
       "      <th>4</th>\n",
       "      <td>Saquon Barkley</td>\n",
       "      <td>52</td>\n",
       "      <td>217</td>\n",
       "      <td>6</td>\n",
       "      <td>2</td>\n",
       "      <td>8</td>\n",
       "      <td>Giants</td>\n",
       "    </tr>\n",
       "  </tbody>\n",
       "</table>\n",
       "</div>"
      ],
      "text/plain": [
       "               RB_name  Receptions  Carries  Rush_TD  Rec_TD  Total_TDs  \\\n",
       "0        Derrick Henry          18      310       16       2         18   \n",
       "1         Austin Ekler          88      132        8       3         11   \n",
       "2           Nick Chubb          36      295        8       0          8   \n",
       "3  Christian McCaffrey         116      287       15       4         19   \n",
       "4       Saquon Barkley          52      217        6       2          8   \n",
       "\n",
       "      Team   \n",
       "0    Titans  \n",
       "1  Chargers  \n",
       "2    Browns  \n",
       "3  Panthers  \n",
       "4    Giants  "
      ]
     },
     "execution_count": 4,
     "metadata": {},
     "output_type": "execute_result"
    }
   ],
   "source": [
    "RB.head()"
   ]
  },
  {
   "cell_type": "code",
   "execution_count": 5,
   "metadata": {},
   "outputs": [],
   "source": [
    "rbc = RB.corr()"
   ]
  },
  {
   "cell_type": "code",
   "execution_count": 6,
   "metadata": {},
   "outputs": [
    {
     "data": {
      "text/html": [
       "<div>\n",
       "<style scoped>\n",
       "    .dataframe tbody tr th:only-of-type {\n",
       "        vertical-align: middle;\n",
       "    }\n",
       "\n",
       "    .dataframe tbody tr th {\n",
       "        vertical-align: top;\n",
       "    }\n",
       "\n",
       "    .dataframe thead th {\n",
       "        text-align: right;\n",
       "    }\n",
       "</style>\n",
       "<table border=\"1\" class=\"dataframe\">\n",
       "  <thead>\n",
       "    <tr style=\"text-align: right;\">\n",
       "      <th></th>\n",
       "      <th>Receptions</th>\n",
       "      <th>Carries</th>\n",
       "      <th>Rush_TD</th>\n",
       "      <th>Rec_TD</th>\n",
       "      <th>Total_TDs</th>\n",
       "    </tr>\n",
       "  </thead>\n",
       "  <tbody>\n",
       "    <tr>\n",
       "      <th>Receptions</th>\n",
       "      <td>1.000000</td>\n",
       "      <td>-0.307317</td>\n",
       "      <td>-0.165350</td>\n",
       "      <td>0.373022</td>\n",
       "      <td>-0.026065</td>\n",
       "    </tr>\n",
       "    <tr>\n",
       "      <th>Carries</th>\n",
       "      <td>-0.307317</td>\n",
       "      <td>1.000000</td>\n",
       "      <td>0.460895</td>\n",
       "      <td>-0.220408</td>\n",
       "      <td>0.359900</td>\n",
       "    </tr>\n",
       "    <tr>\n",
       "      <th>Rush_TD</th>\n",
       "      <td>-0.165350</td>\n",
       "      <td>0.460895</td>\n",
       "      <td>1.000000</td>\n",
       "      <td>-0.033994</td>\n",
       "      <td>0.936609</td>\n",
       "    </tr>\n",
       "    <tr>\n",
       "      <th>Rec_TD</th>\n",
       "      <td>0.373022</td>\n",
       "      <td>-0.220408</td>\n",
       "      <td>-0.033994</td>\n",
       "      <td>1.000000</td>\n",
       "      <td>0.318336</td>\n",
       "    </tr>\n",
       "    <tr>\n",
       "      <th>Total_TDs</th>\n",
       "      <td>-0.026065</td>\n",
       "      <td>0.359900</td>\n",
       "      <td>0.936609</td>\n",
       "      <td>0.318336</td>\n",
       "      <td>1.000000</td>\n",
       "    </tr>\n",
       "  </tbody>\n",
       "</table>\n",
       "</div>"
      ],
      "text/plain": [
       "            Receptions   Carries   Rush_TD    Rec_TD  Total_TDs\n",
       "Receptions    1.000000 -0.307317 -0.165350  0.373022  -0.026065\n",
       "Carries      -0.307317  1.000000  0.460895 -0.220408   0.359900\n",
       "Rush_TD      -0.165350  0.460895  1.000000 -0.033994   0.936609\n",
       "Rec_TD        0.373022 -0.220408 -0.033994  1.000000   0.318336\n",
       "Total_TDs    -0.026065  0.359900  0.936609  0.318336   1.000000"
      ]
     },
     "execution_count": 6,
     "metadata": {},
     "output_type": "execute_result"
    }
   ],
   "source": [
    "rbc.head()"
   ]
  },
  {
   "cell_type": "code",
   "execution_count": 12,
   "metadata": {},
   "outputs": [
    {
     "data": {
      "text/plain": [
       "<AxesSubplot:>"
      ]
     },
     "execution_count": 12,
     "metadata": {},
     "output_type": "execute_result"
    },
    {
     "data": {
      "image/png": "[encoded data removed]",
      "text/plain": [
       "<Figure size 432x288 with 2 Axes>"
      ]
     },
     "metadata": {
      "needs_background": "light"
     },
     "output_type": "display_data"
    }
   ],
   "source": [
    "sns.heatmap(rbc, cmap = 'coolwarm', annot = True)"
   ]
  },
  {
   "cell_type": "code",
   "execution_count": null,
   "metadata": {},
   "outputs": [],
   "source": []
  }
 ],
 "metadata": {
  "kernelspec": {
   "display_name": "Python 3",
   "language": "python",
   "name": "python3"
  },
  "language_info": {
   "codemirror_mode": {
    "name": "ipython",
    "version": 3
   },
   "file_extension": ".py",
   "mimetype": "text/x-python",
   "name": "python",
   "nbconvert_exporter": "python",
   "pygments_lexer": "ipython3",
   "version": "3.8.5"
  }
 },
 "nbformat": 4,
 "nbformat_minor": 4
}
